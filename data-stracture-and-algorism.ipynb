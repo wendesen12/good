{
 "cells": [
  {
   "cell_type": "code",
   "execution_count": 79,
   "id": "eab635ad-c314-4398-8a68-aa5b93747244",
   "metadata": {},
   "outputs": [],
   "source": [
    "\n",
    "students=[\n",
    "    {'id':'DBU1500001','name':'Dawit','dept':'DS','cgpa':3.34},\n",
    "    {'id':'DBU1500009','name':'Binyam','dept':'CS','cgpa':3.67},\n",
    "    {'id':'DBU1500003','name':'abebaw','dept':'DS','cgpa':2.74},\n",
    "    {'id':'DBU1500004','name':'Rahel','dept':'CS','cgpa':3.10},\n",
    "    {'id':'DBU1500007','name':'Mestawet','dept':'CS','cgpa':3.45},\n",
    "    {'id':'DBU1500002','name':'Abrham','dept':'CS','cgpa':3.12},\n",
    "    {'id':'DBU1500006','name':'Selam','dept':'DS','cgpa':3.90},\n",
    "    {'id':'DBU1500010','name':'hirut','dept':'DS','cgpa':3.25},\n",
    "    {'id':'DBU1500008','name':'Hana','dept':'DS','cgpa':2.88},\n",
    "    {'id':'DBU1500005','name':'wende','dept':'DS','cgpa':3.34},\n",
    "    {'id':'DBU1500011','name':'bereket','dept':'DS','cgpa':3.9},\n",
    "    {'id':'DBU1500016','name':'surafel','dept':'DS','cgpa':2.9},\n",
    "    {'id':'DBU1500013','name':'youlian','dept':'CS','cgpa':3.8},\n",
    "    {'id':'DBU1500012','name':'aman','dept':'CS','cgpa':2.98},\n",
    "    {'id':'DBU1500015','name':'mohammed','dept':'DS','cgpa':3.99},\n",
    "    {'id':'DBU1500014','name':'haymanot','dept':'DS','cgpa':2.18},\n",
    "]"
   ]
  },
  {
   "cell_type": "code",
   "execution_count": 81,
   "id": "6c911097-6af1-4d72-83e7-95fa6ff50724",
   "metadata": {},
   "outputs": [
    {
     "data": {
      "text/plain": [
       "[{'id': 'DBU1500001', 'name': 'Dawit', 'dept': 'DS', 'cgpa': 3.34},\n",
       " {'id': 'DBU1500002', 'name': 'Abrham', 'dept': 'CS', 'cgpa': 3.12},\n",
       " {'id': 'DBU1500003', 'name': 'abebaw', 'dept': 'DS', 'cgpa': 2.74},\n",
       " {'id': 'DBU1500004', 'name': 'Rahel', 'dept': 'CS', 'cgpa': 3.1},\n",
       " {'id': 'DBU1500005', 'name': 'wende', 'dept': 'DS', 'cgpa': 3.34},\n",
       " {'id': 'DBU1500006', 'name': 'Selam', 'dept': 'DS', 'cgpa': 3.9},\n",
       " {'id': 'DBU1500007', 'name': 'Mestawet', 'dept': 'CS', 'cgpa': 3.45},\n",
       " {'id': 'DBU1500008', 'name': 'Hana', 'dept': 'DS', 'cgpa': 2.88},\n",
       " {'id': 'DBU1500009', 'name': 'Binyam', 'dept': 'CS', 'cgpa': 3.67},\n",
       " {'id': 'DBU1500010', 'name': 'hirut', 'dept': 'DS', 'cgpa': 3.25},\n",
       " {'id': 'DBU1500011', 'name': 'bereket', 'dept': 'DS', 'cgpa': 3.9},\n",
       " {'id': 'DBU1500012', 'name': 'aman', 'dept': 'CS', 'cgpa': 2.98},\n",
       " {'id': 'DBU1500013', 'name': 'youlian', 'dept': 'CS', 'cgpa': 3.8},\n",
       " {'id': 'DBU1500014', 'name': 'haymanot', 'dept': 'DS', 'cgpa': 2.18},\n",
       " {'id': 'DBU1500015', 'name': 'mohammed', 'dept': 'DS', 'cgpa': 3.99},\n",
       " {'id': 'DBU1500016', 'name': 'surafel', 'dept': 'DS', 'cgpa': 2.9}]"
      ]
     },
     "execution_count": 81,
     "metadata": {},
     "output_type": "execute_result"
    }
   ],
   "source": [
    "def bubble_sort_by_id(data):\n",
    "    data=data.copy()\n",
    "    n=len(data)\n",
    "    for i in range(n):\n",
    "     for j in range(0,n-i-1):\n",
    "        if data[j]['id'] > data[j+1]['id']:\n",
    "          data[j],data[j+1]=data[j+1],data[j]\n",
    "    return data\n",
    "\n",
    "bubble_sort_by_id(students )      "
   ]
  },
  {
   "cell_type": "code",
   "execution_count": 83,
   "id": "fe02d6ed-736d-41ac-bcc4-f154036e9dac",
   "metadata": {},
   "outputs": [
    {
     "data": {
      "text/plain": [
       "[{'id': 'DBU1500003', 'name': 'abebaw', 'dept': 'DS', 'cgpa': 2.74},\n",
       " {'id': 'DBU1500002', 'name': 'Abrham', 'dept': 'CS', 'cgpa': 3.12},\n",
       " {'id': 'DBU1500012', 'name': 'aman', 'dept': 'CS', 'cgpa': 2.98},\n",
       " {'id': 'DBU1500011', 'name': 'bereket', 'dept': 'DS', 'cgpa': 3.9},\n",
       " {'id': 'DBU1500009', 'name': 'Binyam', 'dept': 'CS', 'cgpa': 3.67},\n",
       " {'id': 'DBU1500001', 'name': 'Dawit', 'dept': 'DS', 'cgpa': 3.34},\n",
       " {'id': 'DBU1500008', 'name': 'Hana', 'dept': 'DS', 'cgpa': 2.88},\n",
       " {'id': 'DBU1500014', 'name': 'haymanot', 'dept': 'DS', 'cgpa': 2.18},\n",
       " {'id': 'DBU1500010', 'name': 'hirut', 'dept': 'DS', 'cgpa': 3.25},\n",
       " {'id': 'DBU1500007', 'name': 'Mestawet', 'dept': 'CS', 'cgpa': 3.45},\n",
       " {'id': 'DBU1500015', 'name': 'mohammed', 'dept': 'DS', 'cgpa': 3.99},\n",
       " {'id': 'DBU1500004', 'name': 'Rahel', 'dept': 'CS', 'cgpa': 3.1},\n",
       " {'id': 'DBU1500006', 'name': 'Selam', 'dept': 'DS', 'cgpa': 3.9},\n",
       " {'id': 'DBU1500016', 'name': 'surafel', 'dept': 'DS', 'cgpa': 2.9},\n",
       " {'id': 'DBU1500005', 'name': 'wende', 'dept': 'DS', 'cgpa': 3.34},\n",
       " {'id': 'DBU1500013', 'name': 'youlian', 'dept': 'CS', 'cgpa': 3.8}]"
      ]
     },
     "execution_count": 83,
     "metadata": {},
     "output_type": "execute_result"
    }
   ],
   "source": [
    "def insertion_sort_by_name(data):\n",
    "    data=data.copy()\n",
    "    for i in range(1,len(data)):\n",
    "        key_item=data[i]\n",
    "        j=i-1\n",
    "        while j>=0 and key_item['name'].lower () < data[j]['name'].lower():\n",
    "            data[j+1]=data[j]\n",
    "            j=j-1\n",
    "            data[j+1]=key_item\n",
    "    return data\n",
    "insertion_sort_by_name(students)    "
   ]
  },
  {
   "cell_type": "code",
   "execution_count": 85,
   "id": "c9f3f8ce-5adc-43eb-80f1-6a2c79a6ba1f",
   "metadata": {},
   "outputs": [
    {
     "data": {
      "text/plain": [
       "[{'id': 'DBU1500015', 'name': 'mohammed', 'dept': 'DS', 'cgpa': 3.99},\n",
       " {'id': 'DBU1500013', 'name': 'youlian', 'dept': 'CS', 'cgpa': 3.8},\n",
       " {'id': 'DBU1500011', 'name': 'bereket', 'dept': 'DS', 'cgpa': 3.9},\n",
       " {'id': 'DBU1500006', 'name': 'Selam', 'dept': 'DS', 'cgpa': 3.9},\n",
       " {'id': 'DBU1500007', 'name': 'Mestawet', 'dept': 'CS', 'cgpa': 3.45},\n",
       " {'id': 'DBU1500010', 'name': 'hirut', 'dept': 'DS', 'cgpa': 3.25},\n",
       " {'id': 'DBU1500005', 'name': 'wende', 'dept': 'DS', 'cgpa': 3.34},\n",
       " {'id': 'DBU1500009', 'name': 'Binyam', 'dept': 'CS', 'cgpa': 3.67},\n",
       " {'id': 'DBU1500002', 'name': 'Abrham', 'dept': 'CS', 'cgpa': 3.12},\n",
       " {'id': 'DBU1500012', 'name': 'aman', 'dept': 'CS', 'cgpa': 2.98},\n",
       " {'id': 'DBU1500016', 'name': 'surafel', 'dept': 'DS', 'cgpa': 2.9},\n",
       " {'id': 'DBU1500001', 'name': 'Dawit', 'dept': 'DS', 'cgpa': 3.34},\n",
       " {'id': 'DBU1500008', 'name': 'Hana', 'dept': 'DS', 'cgpa': 2.88},\n",
       " {'id': 'DBU1500004', 'name': 'Rahel', 'dept': 'CS', 'cgpa': 3.1},\n",
       " {'id': 'DBU1500003', 'name': 'abebaw', 'dept': 'DS', 'cgpa': 2.74},\n",
       " {'id': 'DBU1500014', 'name': 'haymanot', 'dept': 'DS', 'cgpa': 2.18}]"
      ]
     },
     "execution_count": 85,
     "metadata": {},
     "output_type": "execute_result"
    }
   ],
   "source": [
    "def selection_sort_by_cgpa(data):\n",
    "     data=data.copy()\n",
    "     n=len(data)\n",
    "     for i in range(n):\n",
    "        max_index=i\n",
    "        for j in range(i+1,n):\n",
    "            if data[j]['cgpa']>data[max_index]['cgpa']:\n",
    "                max_index=j\n",
    "                data[i],data[max_index]=data[max_index],data[i]\n",
    "     return data           \n",
    "selection_sort_by_cgpa(students)           "
   ]
  },
  {
   "cell_type": "markdown",
   "id": "c3c5d561-a462-4fcf-ba2e-5eb4265c03d2",
   "metadata": {},
   "source": [
    "compare the performanceof each algorithm you used in the implementation"
   ]
  },
  {
   "cell_type": "markdown",
   "id": "8d56398e-9ac6-40d2-9b5f-ffb918b5d5e8",
   "metadata": {},
   "source": [
    "compare performance"
   ]
  },
  {
   "cell_type": "markdown",
   "id": "4bc0d968-4618-436f-8293-313dba41d4c0",
   "metadata": {},
   "source": [
    "\n",
    "bubble sort =0(n**2) simple but not efficient for large data set"
   ]
  },
  {
   "cell_type": "markdown",
   "id": "453ee0c9-fa6e-49b5-a46a-aa0bfb5cc2aa",
   "metadata": {},
   "source": [
    "insertion sort =0(n**2) perform well on small or nearly sorted data set "
   ]
  },
  {
   "cell_type": "markdown",
   "id": "46a59a83-a876-46b0-9f02-d472c639dbd0",
   "metadata": {},
   "source": [
    " selection sort = 0(n**2) easy to implement but nor efficient for large data set"
   ]
  },
  {
   "cell_type": "markdown",
   "id": "7e3bf33d-5baf-4c4f-96c7-6fbd0bfd4e34",
   "metadata": {},
   "source": [
    "###advantage and dis advantage of each sorted types of data"
   ]
  },
  {
   "cell_type": "markdown",
   "id": "9acabd23-6225-45d5-beab-42b5c6f7b9ab",
   "metadata": {},
   "source": [
    "1.bubble sort"
   ]
  },
  {
   "cell_type": "markdown",
   "id": "e8e39c79-1800-4eb5-b378-b3d9891e3f56",
   "metadata": {},
   "source": [
    "advantage: very easy to understand and implement"
   ]
  },
  {
   "cell_type": "markdown",
   "id": "ba188c77-b069-4d5a-b40e-8bbcb759cf79",
   "metadata": {},
   "source": [
    "disadvantage: poor performance on large data set"
   ]
  },
  {
   "cell_type": "markdown",
   "id": "26040cc9-6159-469c-9095-970542825815",
   "metadata": {},
   "source": [
    "2.insertion sort"
   ]
  },
  {
   "cell_type": "markdown",
   "id": "fda53a61-8420-4c77-a002-1ddcb9544dfc",
   "metadata": {},
   "source": [
    "advantage:efficient small or already sorted list "
   ]
  },
  {
   "cell_type": "markdown",
   "id": "65388410-dcca-435e-88e3-ac52ea77b12c",
   "metadata": {},
   "source": [
    "disadvantage:not efficient the data is reversed order"
   ]
  },
  {
   "cell_type": "markdown",
   "id": "78bd2eb6-5873-4d37-8cfd-87c1ba8ba432",
   "metadata": {},
   "source": [
    "3.selection sort"
   ]
  },
  {
   "cell_type": "markdown",
   "id": "07de03f7-2e6e-4f05-999a-adc759f0bd83",
   "metadata": {},
   "source": [
    "advantage:fewer swaps compared to bubble sort"
   ]
  },
  {
   "cell_type": "markdown",
   "id": "3f803e4d-1367-4df5-a2ba-fc2a5c5efa3f",
   "metadata": {},
   "source": [
    "disadvantage:always 0(n**2) not suitable for large data set"
   ]
  },
  {
   "cell_type": "markdown",
   "id": "d26450d6-f119-4e66-a3d0-baf504765e94",
   "metadata": {},
   "source": [
    "\n",
    "\n",
    "WENDESEN TESHOME  1501521   DATA SCIENSE  wendesen12 "
   ]
  },
  {
   "cell_type": "markdown",
   "id": "faa91909-9839-40f6-b5ae-2a891b4df7ec",
   "metadata": {},
   "source": []
  },
  {
   "cell_type": "code",
   "execution_count": null,
   "id": "329741cd-4004-4271-98a7-e248e052ec24",
   "metadata": {},
   "outputs": [],
   "source": []
  }
 ],
 "metadata": {
  "kernelspec": {
   "display_name": "Python 3 (ipykernel)",
   "language": "python",
   "name": "python3"
  },
  "language_info": {
   "codemirror_mode": {
    "name": "ipython",
    "version": 3
   },
   "file_extension": ".py",
   "mimetype": "text/x-python",
   "name": "python",
   "nbconvert_exporter": "python",
   "pygments_lexer": "ipython3",
   "version": "3.12.7"
  }
 },
 "nbformat": 4,
 "nbformat_minor": 5
}
