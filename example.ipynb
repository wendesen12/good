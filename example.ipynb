{
 "cells": [
  {
   "cell_type": "markdown",
   "metadata": {},
   "source": [
    "I. Numpy"
   ]
  },
  {
   "cell_type": "markdown",
   "metadata": {},
   "source": [
    "1) a."
   ]
  },
  {
   "cell_type": "code",
   "execution_count": 3,
   "metadata": {},
   "outputs": [],
   "source": [
    "import numpy as np"
   ]
  },
  {
   "cell_type": "code",
   "execution_count": 4,
   "metadata": {},
   "outputs": [],
   "source": [
    "a_array  = np.zeros(10)"
   ]
  },
  {
   "cell_type": "code",
   "execution_count": 5,
   "metadata": {},
   "outputs": [
    {
     "data": {
      "text/plain": [
       "array([0., 0., 0., 0., 0., 0., 0., 0., 0., 0.])"
      ]
     },
     "execution_count": 5,
     "metadata": {},
     "output_type": "execute_result"
    }
   ],
   "source": [
    "a_array"
   ]
  },
  {
   "cell_type": "markdown",
   "metadata": {},
   "source": [
    "b."
   ]
  },
  {
   "cell_type": "code",
   "execution_count": 7,
   "metadata": {},
   "outputs": [],
   "source": [
    "b_array = np.arange(10 ,40)"
   ]
  },
  {
   "cell_type": "code",
   "execution_count": 8,
   "metadata": {},
   "outputs": [
    {
     "data": {
      "text/plain": [
       "array([10, 11, 12, 13, 14, 15, 16, 17, 18, 19, 20, 21, 22, 23, 24, 25, 26,\n",
       "       27, 28, 29, 30, 31, 32, 33, 34, 35, 36, 37, 38, 39])"
      ]
     },
     "execution_count": 8,
     "metadata": {},
     "output_type": "execute_result"
    }
   ],
   "source": [
    "b_array"
   ]
  },
  {
   "cell_type": "markdown",
   "metadata": {},
   "source": [
    "c."
   ]
  },
  {
   "cell_type": "code",
   "execution_count": 10,
   "metadata": {},
   "outputs": [],
   "source": [
    "c_matrix = np.ones((2,2), dtype=int)"
   ]
  },
  {
   "cell_type": "code",
   "execution_count": 11,
   "metadata": {},
   "outputs": [
    {
     "data": {
      "text/plain": [
       "array([[1, 1],\n",
       "       [1, 1]])"
      ]
     },
     "execution_count": 11,
     "metadata": {},
     "output_type": "execute_result"
    }
   ],
   "source": [
    "c_matrix"
   ]
  },
  {
   "cell_type": "markdown",
   "metadata": {},
   "source": [
    "d."
   ]
  },
  {
   "cell_type": "code",
   "execution_count": 13,
   "metadata": {},
   "outputs": [],
   "source": [
    "d_matrix = np.ones((3,2), dtype=float)"
   ]
  },
  {
   "cell_type": "code",
   "execution_count": 14,
   "metadata": {},
   "outputs": [
    {
     "data": {
      "text/plain": [
       "array([[1., 1.],\n",
       "       [1., 1.],\n",
       "       [1., 1.]])"
      ]
     },
     "execution_count": 14,
     "metadata": {},
     "output_type": "execute_result"
    }
   ],
   "source": [
    "d_matrix"
   ]
  },
  {
   "cell_type": "markdown",
   "metadata": {},
   "source": [
    "e."
   ]
  },
  {
   "cell_type": "code",
   "execution_count": 16,
   "metadata": {},
   "outputs": [],
   "source": [
    "X = np.array([[1,2,3,4],\n",
    "              [5,6,7,8],\n",
    "              [9,10,11,12]])"
   ]
  },
  {
   "cell_type": "code",
   "execution_count": 17,
   "metadata": {},
   "outputs": [],
   "source": [
    "e_matrix = np.full_like(X, 7)"
   ]
  },
  {
   "cell_type": "code",
   "execution_count": 18,
   "metadata": {},
   "outputs": [
    {
     "data": {
      "text/plain": [
       "array([[7, 7, 7, 7],\n",
       "       [7, 7, 7, 7],\n",
       "       [7, 7, 7, 7]])"
      ]
     },
     "execution_count": 18,
     "metadata": {},
     "output_type": "execute_result"
    }
   ],
   "source": [
    "e_matrix"
   ]
  },
  {
   "cell_type": "markdown",
   "metadata": {},
   "source": [
    "f."
   ]
  },
  {
   "cell_type": "code",
   "execution_count": 20,
   "metadata": {},
   "outputs": [],
   "source": [
    "f_matrix= np.eye(3, dtype=int)"
   ]
  },
  {
   "cell_type": "code",
   "execution_count": 21,
   "metadata": {},
   "outputs": [
    {
     "data": {
      "text/plain": [
       "array([[1, 0, 0],\n",
       "       [0, 1, 0],\n",
       "       [0, 0, 1]])"
      ]
     },
     "execution_count": 21,
     "metadata": {},
     "output_type": "execute_result"
    }
   ],
   "source": [
    "f_matrix"
   ]
  },
  {
   "cell_type": "code",
   "execution_count": 22,
   "metadata": {},
   "outputs": [],
   "source": [
    "g_array = np.random.randint(1, 11, size=3)"
   ]
  },
  {
   "cell_type": "code",
   "execution_count": 23,
   "metadata": {},
   "outputs": [
    {
     "data": {
      "text/plain": [
       "array([ 1,  9, 10])"
      ]
     },
     "execution_count": 23,
     "metadata": {},
     "output_type": "execute_result"
    }
   ],
   "source": [
    "g_array"
   ]
  },
  {
   "cell_type": "markdown",
   "metadata": {},
   "source": [
    "h."
   ]
  },
  {
   "cell_type": "code",
   "execution_count": 25,
   "metadata": {},
   "outputs": [],
   "source": [
    "h_matrix = np.random.rand(3,3,3)"
   ]
  },
  {
   "cell_type": "code",
   "execution_count": 26,
   "metadata": {},
   "outputs": [
    {
     "data": {
      "text/plain": [
       "array([[[0.26666431, 0.27583123, 0.59135554],\n",
       "        [0.17548362, 0.01079675, 0.23595801],\n",
       "        [0.14179407, 0.81460541, 0.10431851]],\n",
       "\n",
       "       [[0.74981378, 0.44025457, 0.96629138],\n",
       "        [0.10424515, 0.5316888 , 0.74555499],\n",
       "        [0.7212426 , 0.9603394 , 0.47993082]],\n",
       "\n",
       "       [[0.47102128, 0.3022849 , 0.26299885],\n",
       "        [0.87038339, 0.12033838, 0.16289097],\n",
       "        [0.42121046, 0.22266523, 0.78482469]]])"
      ]
     },
     "execution_count": 26,
     "metadata": {},
     "output_type": "execute_result"
    }
   ],
   "source": [
    "h_matrix"
   ]
  },
  {
   "cell_type": "markdown",
   "metadata": {},
   "source": [
    "2)"
   ]
  },
  {
   "cell_type": "code",
   "execution_count": 28,
   "metadata": {},
   "outputs": [],
   "source": [
    "X = np.array([\n",
    "      [1,2,3,4,],\n",
    "      [5,6,7,8],\n",
    "      [9,10,11,12,],\n",
    "      [13,14,15,16]\n",
    "\n",
    "])"
   ]
  },
  {
   "cell_type": "markdown",
   "metadata": {},
   "source": [
    "a."
   ]
  },
  {
   "cell_type": "code",
   "execution_count": 30,
   "metadata": {},
   "outputs": [
    {
     "data": {
      "text/plain": [
       "(array([1, 2, 3, 4]), array([13, 14, 15, 16]))"
      ]
     },
     "execution_count": 30,
     "metadata": {},
     "output_type": "execute_result"
    }
   ],
   "source": [
    "X[0],X[-1]"
   ]
  },
  {
   "cell_type": "markdown",
   "metadata": {},
   "source": [
    "b."
   ]
  },
  {
   "cell_type": "code",
   "execution_count": 32,
   "metadata": {},
   "outputs": [
    {
     "data": {
      "text/plain": [
       "1"
      ]
     },
     "execution_count": 32,
     "metadata": {},
     "output_type": "execute_result"
    }
   ],
   "source": [
    "X[0,0]"
   ]
  },
  {
   "cell_type": "markdown",
   "metadata": {},
   "source": [
    "c."
   ]
  },
  {
   "cell_type": "code",
   "execution_count": 34,
   "metadata": {},
   "outputs": [
    {
     "data": {
      "text/plain": [
       "16"
      ]
     },
     "execution_count": 34,
     "metadata": {},
     "output_type": "execute_result"
    }
   ],
   "source": [
    "X[-1,-1]"
   ]
  },
  {
   "cell_type": "markdown",
   "metadata": {},
   "source": [
    "d."
   ]
  },
  {
   "cell_type": "code",
   "execution_count": 36,
   "metadata": {},
   "outputs": [
    {
     "data": {
      "text/plain": [
       "array([[1, 2],\n",
       "       [5, 6]])"
      ]
     },
     "execution_count": 36,
     "metadata": {},
     "output_type": "execute_result"
    }
   ],
   "source": [
    "X[:2,:2]"
   ]
  },
  {
   "cell_type": "markdown",
   "metadata": {},
   "source": [
    "e."
   ]
  },
  {
   "cell_type": "code",
   "execution_count": 38,
   "metadata": {},
   "outputs": [],
   "source": [
    "X[-1] = 1"
   ]
  },
  {
   "cell_type": "code",
   "execution_count": 39,
   "metadata": {},
   "outputs": [
    {
     "data": {
      "text/plain": [
       "array([[ 1,  2,  3,  4],\n",
       "       [ 5,  6,  7,  8],\n",
       "       [ 9, 10, 11, 12],\n",
       "       [ 1,  1,  1,  1]])"
      ]
     },
     "execution_count": 39,
     "metadata": {},
     "output_type": "execute_result"
    }
   ],
   "source": [
    "X"
   ]
  },
  {
   "cell_type": "markdown",
   "metadata": {},
   "source": [
    "f."
   ]
  },
  {
   "cell_type": "code",
   "execution_count": 41,
   "metadata": {},
   "outputs": [
    {
     "data": {
      "text/plain": [
       "array([[ 1,  5,  9,  1],\n",
       "       [ 2,  6, 10,  1],\n",
       "       [ 3,  7, 11,  1],\n",
       "       [ 4,  8, 12,  1]])"
      ]
     },
     "execution_count": 41,
     "metadata": {},
     "output_type": "execute_result"
    }
   ],
   "source": [
    "(X.T)"
   ]
  },
  {
   "cell_type": "markdown",
   "metadata": {},
   "source": [
    "g."
   ]
  },
  {
   "cell_type": "code",
   "execution_count": 43,
   "metadata": {},
   "outputs": [
    {
     "ename": "LinAlgError",
     "evalue": "Singular matrix",
     "output_type": "error",
     "traceback": [
      "\u001b[1;31m---------------------------------------------------------------------------\u001b[0m",
      "\u001b[1;31mLinAlgError\u001b[0m                               Traceback (most recent call last)",
      "Cell \u001b[1;32mIn[43], line 1\u001b[0m\n\u001b[1;32m----> 1\u001b[0m (np\u001b[38;5;241m.\u001b[39mlinalg\u001b[38;5;241m.\u001b[39minv(X))\n",
      "File \u001b[1;32m~\\anaconda3\\Lib\\site-packages\\numpy\\linalg\\linalg.py:561\u001b[0m, in \u001b[0;36minv\u001b[1;34m(a)\u001b[0m\n\u001b[0;32m    559\u001b[0m signature \u001b[38;5;241m=\u001b[39m \u001b[38;5;124m'\u001b[39m\u001b[38;5;124mD->D\u001b[39m\u001b[38;5;124m'\u001b[39m \u001b[38;5;28;01mif\u001b[39;00m isComplexType(t) \u001b[38;5;28;01melse\u001b[39;00m \u001b[38;5;124m'\u001b[39m\u001b[38;5;124md->d\u001b[39m\u001b[38;5;124m'\u001b[39m\n\u001b[0;32m    560\u001b[0m extobj \u001b[38;5;241m=\u001b[39m get_linalg_error_extobj(_raise_linalgerror_singular)\n\u001b[1;32m--> 561\u001b[0m ainv \u001b[38;5;241m=\u001b[39m _umath_linalg\u001b[38;5;241m.\u001b[39minv(a, signature\u001b[38;5;241m=\u001b[39msignature, extobj\u001b[38;5;241m=\u001b[39mextobj)\n\u001b[0;32m    562\u001b[0m \u001b[38;5;28;01mreturn\u001b[39;00m wrap(ainv\u001b[38;5;241m.\u001b[39mastype(result_t, copy\u001b[38;5;241m=\u001b[39m\u001b[38;5;28;01mFalse\u001b[39;00m))\n",
      "File \u001b[1;32m~\\anaconda3\\Lib\\site-packages\\numpy\\linalg\\linalg.py:112\u001b[0m, in \u001b[0;36m_raise_linalgerror_singular\u001b[1;34m(err, flag)\u001b[0m\n\u001b[0;32m    111\u001b[0m \u001b[38;5;28;01mdef\u001b[39;00m \u001b[38;5;21m_raise_linalgerror_singular\u001b[39m(err, flag):\n\u001b[1;32m--> 112\u001b[0m     \u001b[38;5;28;01mraise\u001b[39;00m LinAlgError(\u001b[38;5;124m\"\u001b[39m\u001b[38;5;124mSingular matrix\u001b[39m\u001b[38;5;124m\"\u001b[39m)\n",
      "\u001b[1;31mLinAlgError\u001b[0m: Singular matrix"
     ]
    }
   ],
   "source": [
    "(np.linalg.inv(X))\n"
   ]
  },
  {
   "cell_type": "markdown",
   "metadata": {},
   "source": [
    "II.   Pandas Series"
   ]
  },
  {
   "cell_type": "markdown",
   "metadata": {},
   "source": [
    "1."
   ]
  },
  {
   "cell_type": "code",
   "execution_count": null,
   "metadata": {},
   "outputs": [],
   "source": [
    "import pandas as pd"
   ]
  },
  {
   "cell_type": "code",
   "execution_count": null,
   "metadata": {},
   "outputs": [],
   "source": [
    "X = ['Mahlet','Mastewat','Wondesen','Tewodros','Mekdes','Haymanot']"
   ]
  },
  {
   "cell_type": "markdown",
   "metadata": {},
   "source": [
    "a."
   ]
  },
  {
   "cell_type": "code",
   "execution_count": null,
   "metadata": {},
   "outputs": [],
   "source": [
    "name_series = pd.Series(X, name = \"Name of group members\")"
   ]
  },
  {
   "cell_type": "code",
   "execution_count": null,
   "metadata": {},
   "outputs": [],
   "source": [
    "name_series"
   ]
  },
  {
   "cell_type": "markdown",
   "metadata": {},
   "source": [
    "b."
   ]
  },
  {
   "cell_type": "code",
   "execution_count": null,
   "metadata": {},
   "outputs": [],
   "source": [
    "(name_series.values)"
   ]
  },
  {
   "cell_type": "markdown",
   "metadata": {},
   "source": [
    "c."
   ]
  },
  {
   "cell_type": "code",
   "execution_count": null,
   "metadata": {},
   "outputs": [],
   "source": [
    "name_series.index = (\"first member\",\"second member\",\"third member\",\"fourth member\",\"fifth member\",\"sixth member\")"
   ]
  },
  {
   "cell_type": "code",
   "execution_count": null,
   "metadata": {},
   "outputs": [],
   "source": [
    "name_series"
   ]
  },
  {
   "cell_type": "markdown",
   "metadata": {},
   "source": [
    "d."
   ]
  },
  {
   "cell_type": "code",
   "execution_count": null,
   "metadata": {},
   "outputs": [],
   "source": [
    "(name_series.head(1))"
   ]
  },
  {
   "cell_type": "code",
   "execution_count": null,
   "metadata": {},
   "outputs": [],
   "source": [
    "(name_series.tail(1))"
   ]
  },
  {
   "cell_type": "markdown",
   "metadata": {},
   "source": [
    "e."
   ]
  },
  {
   "cell_type": "code",
   "execution_count": null,
   "metadata": {},
   "outputs": [],
   "source": [
    "(name_series[::-1])"
   ]
  },
  {
   "cell_type": "markdown",
   "metadata": {},
   "source": [
    "3."
   ]
  },
  {
   "cell_type": "code",
   "execution_count": null,
   "metadata": {},
   "outputs": [],
   "source": [
    "import pandas as pd"
   ]
  },
  {
   "cell_type": "code",
   "execution_count": null,
   "metadata": {},
   "outputs": [],
   "source": [
    "Y = pd.Series([-1,2,3,-4,2,6,-9,10])"
   ]
  },
  {
   "cell_type": "markdown",
   "metadata": {},
   "source": [
    "a."
   ]
  },
  {
   "cell_type": "code",
   "execution_count": null,
   "metadata": {},
   "outputs": [],
   "source": [
    "(\"Negative elements :\")"
   ]
  },
  {
   "cell_type": "code",
   "execution_count": null,
   "metadata": {},
   "outputs": [],
   "source": [
    "(Y[Y<0])"
   ]
  },
  {
   "cell_type": "markdown",
   "metadata": {},
   "source": [
    "b."
   ]
  },
  {
   "cell_type": "code",
   "execution_count": null,
   "metadata": {},
   "outputs": [],
   "source": [
    "(\"\\nNumbers higher than 2 :\")"
   ]
  },
  {
   "cell_type": "code",
   "execution_count": null,
   "metadata": {},
   "outputs": [],
   "source": [
    "(Y[Y>2])"
   ]
  },
  {
   "cell_type": "markdown",
   "metadata": {},
   "source": [
    "c."
   ]
  },
  {
   "cell_type": "code",
   "execution_count": null,
   "metadata": {},
   "outputs": [],
   "source": [
    "mean = Y.mean()"
   ]
  },
  {
   "cell_type": "code",
   "execution_count": null,
   "metadata": {},
   "outputs": [],
   "source": [
    "(f\"\\nNumbers higher than the mean({mean : .2f}):\")"
   ]
  },
  {
   "cell_type": "code",
   "execution_count": null,
   "metadata": {},
   "outputs": [],
   "source": [
    "Y[Y > mean]"
   ]
  },
  {
   "cell_type": "markdown",
   "metadata": {},
   "source": [
    "d."
   ]
  },
  {
   "cell_type": "code",
   "execution_count": null,
   "metadata": {},
   "outputs": [],
   "source": [
    "(\"\\nNumbers equal to 2 or 10 :\")"
   ]
  },
  {
   "cell_type": "code",
   "execution_count": null,
   "metadata": {},
   "outputs": [],
   "source": [
    "(Y[(Y == 2) | (Y == 10)])"
   ]
  },
  {
   "cell_type": "markdown",
   "metadata": {},
   "source": [
    "4."
   ]
  },
  {
   "cell_type": "code",
   "execution_count": null,
   "metadata": {},
   "outputs": [],
   "source": [
    "import pandas as pd"
   ]
  },
  {
   "cell_type": "code",
   "execution_count": null,
   "metadata": {},
   "outputs": [],
   "source": [
    "X = pd.Series([-1,2,0,-4,5,6,0,0,-9,10])"
   ]
  },
  {
   "cell_type": "markdown",
   "metadata": {},
   "source": [
    "a."
   ]
  },
  {
   "cell_type": "code",
   "execution_count": null,
   "metadata": {},
   "outputs": [],
   "source": [
    "(\"None of the elements is zero:\", not (0 in X.values))"
   ]
  },
  {
   "cell_type": "markdown",
   "metadata": {},
   "source": [
    "b."
   ]
  },
  {
   "cell_type": "code",
   "execution_count": null,
   "metadata": {},
   "outputs": [],
   "source": [
    "(\"Any of the elements is zero:\", 0 in X.values)"
   ]
  },
  {
   "cell_type": "code",
   "execution_count": null,
   "metadata": {},
   "outputs": [],
   "source": [
    "(f\"the sum is {X.sum()}, the mean is {X.mean():.2f}, and the maximum is {X.max()}\")"
   ]
  },
  {
   "cell_type": "markdown",
   "metadata": {},
   "source": [
    "III.     Pandas DataFrame"
   ]
  },
  {
   "cell_type": "markdown",
   "metadata": {},
   "source": [
    "1)"
   ]
  },
  {
   "cell_type": "code",
   "execution_count": null,
   "metadata": {},
   "outputs": [],
   "source": [
    "group_df= pd.DataFrame({\n",
    "    'First Name' : ['Mahlet', 'Mastewat', 'Wondesen', 'Tewodros', 'Mekdes', 'Haymanot'],\n",
    "    'Sex' : ['Female', 'Female', 'Male', 'Male', 'Female', 'Female'],\n",
    "    'Grade 12 Maths' : [78, 84, 90, 76, 83 ,80],\n",
    "    'Year of Birth' : [1997, 1996, 1994, 1996, 1995, 1996]\n",
    "})"
   ]
  },
  {
   "cell_type": "markdown",
   "metadata": {},
   "source": [
    "a."
   ]
  },
  {
   "cell_type": "code",
   "execution_count": null,
   "metadata": {},
   "outputs": [],
   "source": [
    "group_df.columns = ['Name', 'Sex', 'Grade 12 Maths ', 'Year of birth'] "
   ]
  },
  {
   "cell_type": "code",
   "execution_count": null,
   "metadata": {},
   "outputs": [],
   "source": [
    "group_df"
   ]
  },
  {
   "cell_type": "code",
   "execution_count": null,
   "metadata": {},
   "outputs": [],
   "source": [
    "group_df.index.name= 'Index'"
   ]
  },
  {
   "cell_type": "code",
   "execution_count": null,
   "metadata": {},
   "outputs": [],
   "source": [
    "group_df"
   ]
  },
  {
   "cell_type": "markdown",
   "metadata": {},
   "source": [
    "b."
   ]
  },
  {
   "cell_type": "code",
   "execution_count": null,
   "metadata": {},
   "outputs": [],
   "source": [
    "group_df = group_df.drop('Sex', axis=1)"
   ]
  },
  {
   "cell_type": "code",
   "execution_count": null,
   "metadata": {},
   "outputs": [],
   "source": [
    "group_df"
   ]
  },
  {
   "cell_type": "markdown",
   "metadata": {},
   "source": [
    "c."
   ]
  },
  {
   "cell_type": "code",
   "execution_count": null,
   "metadata": {},
   "outputs": [],
   "source": [
    "new_student = pd.DataFrame({'Name': ['Samrawit'], 'Grade 12 Maths': [82], 'Year of Birth': [1995]})"
   ]
  },
  {
   "cell_type": "code",
   "execution_count": null,
   "metadata": {},
   "outputs": [],
   "source": [
    "group_df = pd.concat([group_df, new_student], ignore_index=True)"
   ]
  },
  {
   "cell_type": "code",
   "execution_count": null,
   "metadata": {},
   "outputs": [],
   "source": [
    "group_df"
   ]
  },
  {
   "cell_type": "markdown",
   "metadata": {},
   "source": [
    "d."
   ]
  },
  {
   "cell_type": "code",
   "execution_count": null,
   "metadata": {},
   "outputs": [],
   "source": [
    "group_df = group_df.iloc[:-1]"
   ]
  },
  {
   "cell_type": "code",
   "execution_count": null,
   "metadata": {},
   "outputs": [],
   "source": [
    "group_df"
   ]
  },
  {
   "cell_type": "markdown",
   "metadata": {},
   "source": [
    "e."
   ]
  },
  {
   "cell_type": "code",
   "execution_count": null,
   "metadata": {},
   "outputs": [],
   "source": [
    "(\"first 3 elements: \\n\", group_df.head(3))"
   ]
  },
  {
   "cell_type": "markdown",
   "metadata": {},
   "source": [
    "f."
   ]
  },
  {
   "cell_type": "code",
   "execution_count": null,
   "metadata": {},
   "outputs": [],
   "source": [
    "(\"last two elements: \\n\", group_df.tail(2))"
   ]
  },
  {
   "cell_type": "markdown",
   "metadata": {},
   "source": [
    "g."
   ]
  },
  {
   "cell_type": "code",
   "execution_count": null,
   "metadata": {},
   "outputs": [],
   "source": [
    "group_df.insert(1,'Sex',['Female', 'Female', 'Male', 'Male', 'Female', 'Female'])"
   ]
  },
  {
   "cell_type": "code",
   "execution_count": null,
   "metadata": {},
   "outputs": [],
   "source": [
    "group_df"
   ]
  },
  {
   "cell_type": "code",
   "execution_count": null,
   "metadata": {},
   "outputs": [],
   "source": [
    "(\"\\nSex of the first three elements:\\n\", group_df['Sex'].head(3))"
   ]
  },
  {
   "cell_type": "markdown",
   "metadata": {},
   "source": [
    "h."
   ]
  },
  {
   "cell_type": "code",
   "execution_count": null,
   "metadata": {},
   "outputs": [],
   "source": [
    "group_df['color preference'] = ['red', 'blue','green', 'yellow', 'white','purple']"
   ]
  },
  {
   "cell_type": "code",
   "execution_count": null,
   "metadata": {},
   "outputs": [],
   "source": [
    "group_df"
   ]
  },
  {
   "cell_type": "markdown",
   "metadata": {},
   "source": [
    "i."
   ]
  },
  {
   "cell_type": "code",
   "execution_count": null,
   "metadata": {},
   "outputs": [],
   "source": [
    "male_students =group_df[group_df['Sex'] == 'Male']"
   ]
  },
  {
   "cell_type": "code",
   "execution_count": null,
   "metadata": {},
   "outputs": [],
   "source": [
    "male_students"
   ]
  },
  {
   "cell_type": "markdown",
   "metadata": {},
   "source": [
    "j."
   ]
  },
  {
   "cell_type": "code",
   "execution_count": null,
   "metadata": {},
   "outputs": [],
   "source": [
    "(\"\\nBasic statistics:\\n\", group_df.describe())"
   ]
  },
  {
   "cell_type": "markdown",
   "metadata": {},
   "source": [
    "k."
   ]
  },
  {
   "cell_type": "code",
   "execution_count": null,
   "metadata": {},
   "outputs": [],
   "source": [
    "group_df = group_df.reset_index(drop=True)"
   ]
  },
  {
   "cell_type": "code",
   "execution_count": null,
   "metadata": {},
   "outputs": [],
   "source": [
    "group_df"
   ]
  },
  {
   "cell_type": "markdown",
   "metadata": {},
   "source": [
    "2."
   ]
  },
  {
   "cell_type": "markdown",
   "metadata": {},
   "source": [
    "a."
   ]
  },
  {
   "cell_type": "code",
   "execution_count": null,
   "metadata": {},
   "outputs": [],
   "source": [
    "group_df = pd.DataFrame({\n",
    "    'Sex': [\n",
    "        'Male', 'Female', 'Male', 'Male', 'Female', 'Female', 'Female', 'Female', 'Male', 'Male', 'Female', 'Female', 'Female', 'Female', 'Female', 'Female', 'Male', 'Male', 'Male', 'Male', 'Male', 'Male', 'Male', 'Male', 'Male', 'Female', 'Male', 'Male', 'Female', 'Male', 'Male', 'Male', 'Female', 'Male', 'Male', 'Male', 'Female', 'Female'\n",
    "    ],\n",
    "    'Mother Occupation': [\n",
    "        'Wage Employed', 'Unemployed', 'Unemployed', 'Unemployed', 'Unemployed', 'Unemployed', 'Merchant', 'Chief', 'Merchant', 'Teacher', 'Unemployed', 'Merchant', 'Merchant', 'Unemployed', 'Unemployed', 'Unemployed', 'Unemployed', 'Unemployed', 'Farmer', 'Unemployed', 'Household', 'Merchant', 'Merchant', 'Household', 'Merchant', 'Teacher', 'Merchant', 'Merchant', 'Teacher', 'Farmer', 'Farmer', 'Wage Employed', 'Merchant', 'Farmer', 'Farmer', 'Wage Employed', 'Merchant', 'Unemployed'\n",
    "    ],\n",
    "    'Father Occupation': [\n",
    "        'Wage Employed', 'Wage Employed', 'Wage Employed', 'Wage Employed', 'Wage Employed', 'Merchant', 'Wage Employed', 'Driver', 'Merchant', 'Merchant', 'Teacher', 'Wage Employed', 'Wage Employed', 'Unemployed', 'Wage Employed', 'Wage Employed', 'Merchant', 'Daily Labourer', 'Farmer', 'Farmer', 'Wage Employed', 'Farmer', 'Farmer', 'Torno', 'Teacher', 'Teacher', 'Wage Employed', 'Wage Employed', 'Driver', 'Farmer', 'Farmer', 'Wage Employed', 'Wage Employed', 'Farmer', 'Farmer', 'Wage Employed', 'Contractor', 'Wage Employed'\n",
    "    ],\n",
    "    'Household Residence': [\n",
    "        'Urban', 'Urban', 'Urban', 'Urban', 'Urban', 'Urban', 'Urban', 'Rural', 'Urban', 'Urban', 'Rural', 'Urban', 'Rural', 'Rural', 'Rural', 'Urban', 'Urban', 'Urban', 'Urban', 'Rural', 'Urban', 'Urban', 'Rural', 'Rural', 'Urban', 'Urban', 'Urban', 'Urban', 'Urban', 'Urban', 'Rural', 'Rural', 'Urban', 'Urban', 'Rural', 'Rural', 'Urban', 'Urban'],\n",
    "    'Primary School Type': [\n",
    "        'Government School', 'Private School', 'Government School', 'Government School', 'Government School', 'Private School', 'Private School', 'Private School', 'Government School', 'Government School', 'Government School', 'Private School', 'Private School', 'Private School', 'Government School', 'Government School', 'Private School', 'Government School', 'Government School', 'Government School', 'Private School', 'Government School', 'Government School', 'Private School', 'Government School', 'Government School', 'Government School', 'Government School', 'Private School', 'Government School', 'Government School', 'Government School', 'Private School', 'Government School', 'Government School', 'Government School', 'Private School', 'Government School'\n",
    "    ],\n",
    "    'Grade 12 SAT Score': [\n",
    "        69, 70, 60, 60, 65, 70, 64, 60, 70, 68, 55, 52, 52, 70, 70, 70, 65, 52, 63, 53, 72, 46, 46, 60, 56, 56, 55, 55, 65, 40, 40, 53, 82, 40, 40, 53, 65, 56\n",
    "    ],\n",
    "    'Average Monthly Pocket Money': [\n",
    "        1500, 1000, 2000, 2000, 3000, 3000, 2000, 1500, 3000, 950, 6000, 2000, 2000, 2000, 3000, 3000, 1000, 900, 500, 600, 2000, 1000, 1000, 100, 1000, 500, 1000, 1000, 3000, 500, 500, 500, 2000, 500, 500, 700, 2000, 3000\n",
    "    ],\n",
    "    'Average Weekly Study Hours During Exam Month': [\n",
    "        28, 20, 20, 20, 28, 30, 15, 19, 23, 28, 46, 15, 25, 20, 28, 28, 20, 10, 16, 21, 21, 42, 42, 14, 14, 14, 20, 28, 50, 10, 10, 12, 15, 24, 24, 24, 16, 16\n",
    "    ],\n",
    "    'Freshman CGPA': [\n",
    "        3.77, 3.29, 3.2, 3.2, 3.3, 3, 3.33, 3.26, 3.5, 3.75, 3.22, 3.33, 3.33, 3, 3.3, 3.3, 3.67, 3.36, 3.3, 3.41, 3.5, 3.6, 3.6, 3.28, 2.9, 2.9, 3.39, 3.39, 3.33, 3.16, 3.16, 3.36, 3.3, 3.16, 3.16, 3.36, 3.56, 3.1\n",
    "    ],\n",
    "    'Having a Crush in Freshman': [\n",
    "        'No', 'No', 'Yes', 'Yes', 'Yes', 'Yes', 'Yes', 'No', 'No', 'No', 'No', 'Yes', 'Yes', 'No', 'No', 'No', 'Yes', 'Yes', 'No', 'No', 'No', 'Yes', 'Yes', 'No', 'Yes', 'Yes', 'Yes', 'Yes', 'No', 'No', 'No', 'No', 'No', 'No', 'No', 'No', 'No', 'No'\n",
    "    ]\n",
    "})\n",
    "\n",
    "\n"
   ]
  },
  {
   "cell_type": "markdown",
   "metadata": {},
   "source": [
    "b."
   ]
  },
  {
   "cell_type": "code",
   "execution_count": null,
   "metadata": {},
   "outputs": [],
   "source": [
    "group_df"
   ]
  },
  {
   "cell_type": "markdown",
   "metadata": {},
   "source": [
    "c."
   ]
  },
  {
   "cell_type": "code",
   "execution_count": null,
   "metadata": {},
   "outputs": [],
   "source": [
    "group_df.describe()"
   ]
  },
  {
   "cell_type": "code",
   "execution_count": null,
   "metadata": {},
   "outputs": [],
   "source": [
    "pip install matplotlib"
   ]
  },
  {
   "cell_type": "code",
   "execution_count": null,
   "metadata": {},
   "outputs": [],
   "source": [
    "pip install seaborn"
   ]
  },
  {
   "cell_type": "code",
   "execution_count": null,
   "metadata": {},
   "outputs": [],
   "source": [
    "import matplotlib.pyplot as plt"
   ]
  },
  {
   "cell_type": "code",
   "execution_count": null,
   "metadata": {},
   "outputs": [],
   "source": [
    "import seaborn as sns"
   ]
  },
  {
   "cell_type": "code",
   "execution_count": null,
   "metadata": {},
   "outputs": [],
   "source": [
    "# Histogram of Grade 12 SAT Scores\n",
    "plt.figure(figsize=(8, 6))\n",
    "group_df['Grade 12 SAT Score'].hist()\n",
    "plt.title('Histogram of Grade 12 SAT Scores')\n",
    "plt.xlabel('SAT Score')\n",
    "plt.ylabel('Frequency')\n",
    "plt.show()\n",
    "\n",
    "# Scatter plot of Freshman CGPA vs Average Weekly Study Hours During Exam Month\n",
    "plt.figure(figsize=(8, 6))\n",
    "sns.scatterplot(x='Average Weekly Study Hours During Exam Month', y='Freshman CGPA', data=group_df)\n",
    "plt.title('Freshman CGPA vs Average Weekly Study Hours During Exam Month')\n",
    "plt.xlabel('Average Weekly Study Hours During Exam Month')\n",
    "plt.ylabel('Freshman CGPA')\n",
    "plt.show()\n"
   ]
  },
  {
   "cell_type": "markdown",
   "metadata": {},
   "source": [
    "d."
   ]
  },
  {
   "cell_type": "code",
   "execution_count": null,
   "metadata": {},
   "outputs": [],
   "source": [
    " # Histogram of Grade 12 SAT Scores\n",
    "plt.figure(figsize=(8, 6))\n",
    "group_df['Grade 12 SAT Score'].hist()\n",
    "plt.title('Histogram of Grade 12 SAT Scores')\n",
    "plt.xlabel('SAT Score')\n",
    "plt.ylabel('Frequency')\n",
    "plt.show()\n",
    "\n",
    "# Histogram of Average Monthly Pocket Money\n",
    "plt.figure(figsize=(8, 6))\n",
    "group_df['Average Monthly Pocket Money'].hist()\n",
    "plt.title('Histogram of Average Monthly Pocket Money')\n",
    "plt.xlabel('Pocket Money')\n",
    "plt.ylabel('Frequency')\n",
    "plt.show()\n",
    "\n",
    "# Histogram of Average Weekly Study Hours During Exam Month\n",
    "plt.figure(figsize=(8, 6))\n",
    "group_df['Average Weekly Study Hours During Exam Month'].hist()\n",
    "plt.title('Histogram of Average Weekly Study Hours During Exam Month')\n",
    "plt.xlabel('Study Hours')\n",
    "plt.ylabel('Frequency')\n",
    "plt.show()"
   ]
  },
  {
   "cell_type": "markdown",
   "metadata": {},
   "source": [
    "e."
   ]
  },
  {
   "cell_type": "code",
   "execution_count": null,
   "metadata": {},
   "outputs": [],
   "source": [
    "# Box plot of Grade 12 SAT Scores\n",
    "plt.figure(figsize=(8, 6))\n",
    "group_df.boxplot(column='Grade 12 SAT Score')\n",
    "plt.title('Box Plot of Grade 12 SAT Scores')\n",
    "plt.xlabel('SAT Score')\n",
    "plt.show()\n",
    "\n",
    "# Box plot of Average Monthly Pocket Money\n",
    "plt.figure(figsize=(8, 6))\n",
    "group_df.boxplot(column='Average Monthly Pocket Money')\n",
    "plt.title('Box Plot of Average Monthly Pocket Money')\n",
    "plt.xlabel('Pocket Money')\n",
    "plt.show()\n",
    "\n",
    "# Box plot of Average Weekly Study Hours During Exam Month\n",
    "plt.figure(figsize=(8, 6))\n",
    "group_df.boxplot(column='Average Weekly Study Hours During Exam Month')\n",
    "plt.title('Box Plot of Average Weekly Study Hours During Exam Month')\n",
    "plt.xlabel('Study Hours')\n",
    "plt.show()"
   ]
  },
  {
   "cell_type": "markdown",
   "metadata": {},
   "source": [
    "f."
   ]
  },
  {
   "cell_type": "code",
   "execution_count": null,
   "metadata": {},
   "outputs": [],
   "source": [
    "!pip install scipy"
   ]
  },
  {
   "cell_type": "code",
   "execution_count": null,
   "metadata": {},
   "outputs": [],
   "source": [
    "from scipy.stats import ttest_ind"
   ]
  },
  {
   "cell_type": "code",
   "execution_count": null,
   "metadata": {},
   "outputs": [],
   "source": [
    "\n",
    "\n",
    "male_sat = group_df.loc[group_df['Sex'] == 'Male', 'Grade 12 SAT Score']\n",
    "female_sat = group_df.loc[group_df['Sex'] == 'Female', 'Grade 12 SAT Score']\n",
    "\n",
    "t_stat, p_value =stats.ttest_ind (male_sat, female_sat)\n",
    "\n",
    "print(f\"t-statistic: {t_stat:.2f}\")\n",
    "print(f\"p-value: {p_value:.4f}\")\n",
    "\n",
    "# If the p-value is less than the chosen significance level (e.g., 0.05),\n",
    "# we can conclude that there is a statistically significant difference\n",
    "# in the mean SAT scores between male and female students.\n",
    "# We have recieved so many warning that scipy is not found, which we had an environment issue ,we try our best and  couldn't solve it .\n"
   ]
  },
  {
   "cell_type": "markdown",
   "metadata": {},
   "source": [
    "g."
   ]
  },
  {
   "cell_type": "code",
   "execution_count": null,
   "metadata": {},
   "outputs": [],
   "source": [
    "from scipy.stats import ttest_ind\n",
    "crush_yes = group_df.loc[group_df['Having a Crush During Freshman Year']== 'Yes', 'Freshman CGPA']\n",
    "crush_no = group_df.loc[group_df['Having a Crush During Freshman Year']=='No', 'Freshman CGPA']\n",
    "\n",
    "t_stat, p_value =stats.ttest_ind (crush_yes, crush_no)\n",
    "\n",
    "print(f\"t-statistic: {t_stat:.2f}\")\n",
    "print(f\"p-value: {p_value:.4f}\")\n",
    "\n",
    "\n",
    "\n",
    "# If the p-value is less than the chosen significance level (e.g., 0.05),\n",
    "# We can conclude that having a crush during the freshman year\n",
    "# Significantly affecting \n",
    "\n"
   ]
  },
  {
   "cell_type": "markdown",
   "metadata": {},
   "source": [
    "H."
   ]
  },
  {
   "cell_type": "code",
   "execution_count": null,
   "metadata": {},
   "outputs": [],
   "source": [
    "plt.figure(figsize=(8, 6))\n",
    "sns.scatterplot(x='Average Weekly Study Hours During Exam Month' ,\n",
    "y='Freshman CGPA' , data =group_df)\n",
    "plt.title('Freshman CGPA vs Average Weekly Study Hours')\n",
    "plt.xlabel('Average Weekly Study Hours')\n",
    "plt.ylabel('Freshman CGPA')\n",
    "plt.show()"
   ]
  },
  {
   "cell_type": "markdown",
   "metadata": {},
   "source": [
    "Class Work"
   ]
  },
  {
   "cell_type": "code",
   "execution_count": null,
   "metadata": {},
   "outputs": [],
   "source": [
    "\"\"\"1. Test weather there is statistically singnificant mean reading score difference between male and female sudents.\n",
    "2. Test weather there is statistically singnificant mean writing score difference between male and female sudents.\n",
    "3. Test weather there is statistically singnificant overall mean score (math+reading+writing) difference between male and female sudents.\"\"\"\n"
   ]
  },
  {
   "cell_type": "code",
   "execution_count": null,
   "metadata": {},
   "outputs": [],
   "source": [
    "import pandas as pd\n",
    "from scipy import stats"
   ]
  },
  {
   "cell_type": "code",
   "execution_count": null,
   "metadata": {},
   "outputs": [],
   "source": [
    "#Create the data\n",
    "data = {\n",
    "    'gender': ['female', 'female', 'female', 'male', 'male'],\n",
    "    'race/ethnicity': ['group B', 'group C', 'group B', 'group A', 'group C'],\n",
    "    'parental level of education': [\"bachelor's degree\", 'some college', \"master's degree\", \"associate's degree\", 'some college'],\n",
    "    'lunch': ['standard', 'standard', 'standard', 'free/reduced', 'standard'],\n",
    "    'test preparation course': ['none', 'completed', 'none', 'none', 'none'],\n",
    "    'math score': [72, 69, 90, 47, 76],\n",
    "    'reading score': [72, 90, 95, 57, 78],\n",
    "    'writing score': [74, 88, 93, 44, 75]\n",
    "}"
   ]
  },
  {
   "cell_type": "code",
   "execution_count": null,
   "metadata": {},
   "outputs": [],
   "source": [
    "#Create a DataFrame\n",
    "df = pd.DataFrame(data)"
   ]
  },
  {
   "cell_type": "code",
   "execution_count": null,
   "metadata": {},
   "outputs": [],
   "source": [
    "#Separate the data into two groups: male and female\n",
    "female_reading_scores = df[df['gender'] == 'female']['reading score']\n",
    "male_reading_scores = df[df['gender'] == 'male']['reading score']\n",
    "\n",
    "t_stat, p_value = stats.ttest_ind(female_reading_scores, male_reading_scores)\n"
   ]
  },
  {
   "cell_type": "code",
   "execution_count": null,
   "metadata": {},
   "outputs": [],
   "source": [
    "#Print the results\n",
    "print(f\"T-statistic: {t_stat}\")\n",
    "print(f\"P-value: {p_value}\")\n"
   ]
  },
  {
   "cell_type": "code",
   "execution_count": null,
   "metadata": {},
   "outputs": [],
   "source": [
    "#Interpretation\n",
    "if p_value < 0.05:\n",
    "    print(\"There is a statistically significant difference in the mean reading scores between male and female students.\")\n",
    "else:\n",
    "    print(\"There is no statistically significant difference in the mean reading scores between male and female students.\")\n"
   ]
  },
  {
   "cell_type": "code",
   "execution_count": null,
   "metadata": {},
   "outputs": [],
   "source": [
    "#Separate the data into two groups: male and female\n",
    "female_writing_scores = df[df['gender'] == 'female']['writing score']\n",
    "male_writing_scores = df[df['gender'] == 'male']['writing score']\n"
   ]
  },
  {
   "cell_type": "code",
   "execution_count": null,
   "metadata": {},
   "outputs": [],
   "source": [
    "# Perform an independent samples t-test\n",
    "t_stat, p_value = stats.ttest_ind(female_writing_scores, male_writing_scores)\n",
    "\n",
    "# Print the results\n",
    "print(f\"T-statistic: {t_stat}\")\n",
    "print(f\"P-value: {p_value}\")\n"
   ]
  },
  {
   "cell_type": "code",
   "execution_count": null,
   "metadata": {},
   "outputs": [],
   "source": [
    "if p_value < 0.05:\n",
    "    print(\"There is a statistically significant difference in the mean writing scores between male and female students.\")\n",
    "else:\n",
    "    print(\"There is no statistically significant difference in the mean writing scores between male and female students.\")\n"
   ]
  },
  {
   "cell_type": "code",
   "execution_count": null,
   "metadata": {},
   "outputs": [],
   "source": [
    "# Calculate the overall mean score (math + reading + writing)\n",
    "df['overall score'] = df['math score'] + df['reading score'] + df['writing score']\n",
    "\n",
    "#Separate the data into two groups: male and female\n",
    "female_overall_scores = df[df['gender'] == 'female']['overall score']\n",
    "male_overall_scores = df[df['gender'] == 'male']['overall score']\n",
    "\n",
    "# Perform an independent samples t-test\n",
    "t_stat, p_value = stats.ttest_ind(female_overall_scores, male_overall_scores)\n",
    "\n",
    "print(f\"T-statistic: {t_stat}\")\n",
    "print(f\"P-value: {p_value}\")\n"
   ]
  },
  {
   "cell_type": "code",
   "execution_count": null,
   "metadata": {},
   "outputs": [],
   "source": [
    "if p_value < 0.05:\n",
    "    print(\"There is a statistically significant difference in the overall mean scores between male and female students.\")\n",
    "else:\n",
    "    print(\"There is no statistically significant difference in the overall mean scores between male and female students.\")\n"
   ]
  },
  {
   "cell_type": "markdown",
   "metadata": {},
   "source": [
    "      STUDENT NAME         ID NO\n",
    "    1 MAHILET  TEKLE      1601955 \n",
    "    2 WENDESEN TESHOME    1501521\n",
    "    3 TEWODROS KASAHUN    1601650\n",
    "    4 HAYMANOT ASRAT      1601248\n",
    "    5 MEKDES   WENDESEN   1601854 \n",
    "    6 MASTAWET MEHIRETE   1601337"
   ]
  },
  {
   "cell_type": "code",
   "execution_count": null,
   "metadata": {},
   "outputs": [],
   "source": []
  },
  {
   "cell_type": "code",
   "execution_count": null,
   "metadata": {},
   "outputs": [],
   "source": []
  }
 ],
 "metadata": {
  "kernelspec": {
   "display_name": "Python 3 (ipykernel)",
   "language": "python",
   "name": "python3"
  },
  "language_info": {
   "codemirror_mode": {
    "name": "ipython",
    "version": 3
   },
   "file_extension": ".py",
   "mimetype": "text/x-python",
   "name": "python",
   "nbconvert_exporter": "python",
   "pygments_lexer": "ipython3",
   "version": "3.12.7"
  }
 },
 "nbformat": 4,
 "nbformat_minor": 4
}
